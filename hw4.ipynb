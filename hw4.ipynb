{
 "cells": [
  {
   "cell_type": "markdown",
   "metadata": {},
   "source": [
    "## c)\n",
    "\n",
    "Suppose that\n",
    "$$\n",
    "A = \\left( \\begin{array}{ccc}\n",
    "X & X & X \\\\\n",
    "X & X & X \\\\\n",
    "X & X & X \\end{array} \\right)\n",
    "$$\n",
    "\n",
    "matrix is nonsingular. If we multiply this matrix from either left or right by unitary matrix, we always get an nonsingular matrix since unitary matrices are nonsingular. However, \n",
    "\n",
    "$$\n",
    "\\left( \\begin{array}{ccc}\n",
    "X & X & 0 \\\\\n",
    "0 & 0 & X \\\\\n",
    "0 & 0 & X \\end{array} \\right)\n",
    "$$\n",
    "\n",
    "matrix structure is singular. Since we can not create singular matrix by multiplications, **(iii)** holds."
   ]
  },
  {
   "cell_type": "markdown",
   "metadata": {},
   "source": [
    "## a)\n",
    "\n",
    "We can obtain this matrix structure by a sequence of left- and right-multiplication by unitary matrices. In order to get a 0 at (1,3) we need to do right-multiplication.\n",
    "\n",
    "$$B = \\left( \\begin{array}{ccc}\n",
    "X & X & 0 \\\\\n",
    "0 & X & X \\\\\n",
    "0 & 0 & X \\end{array} \\right)$$\n",
    "\n",
    "We can write as $$B=Q_2Q_1AQ_3^*$$\n",
    "where,\n",
    "\n",
    "* $Q_1$ is a Householder reflector constucted using first column of A\n",
    "* $Q_2$ is a Givens rotation that is constructed by using $(Q_1A)_{(2,2)}$ and $(Q_1A)_{(3,2)}$. And this rotation matrix makes $(3,2)$ position of $(Q_1A)$\n",
    "\n",
    "$$Q_2=\\left( \\begin{array}{ccc}\n",
    "1 & 0 & 0 \\\\\n",
    "0 & c & -s \\\\\n",
    "0 & s & c \\end{array} \\right)$$\n",
    "\n",
    "where s and c values are calculated by using $(Q_1A)_{(2,2)}$ and $(Q_1A)_{(3,2)}$.\n",
    "\n",
    "* $Q_3$ is another Givens rotation that is constructed by using $(Q_2Q_1A)_{(1,2)}$ and $(Q_2Q_1A)_{(1,3)}$. If we multiply $(Q_2Q_1A)$ by $Q_3^*$ from right, we make zero position $(1,3)$ of $(Q_2Q_1A)$.\n",
    "\n",
    "$$Q_3=\\left( \\begin{array}{ccc}\n",
    "1 & 0 & 0 \\\\\n",
    "0 & c & -s \\\\\n",
    "0 & s & c \\end{array} \\right)$$\n",
    "\n",
    "where s and c values are calculated by using $(Q_2Q_1A)_{(1,2)}$ and $(Q_2Q_1A)_{(1,3)}$.\n",
    "\n",
    "Therefore, for matrix structure **a**, situation **(ii)** holds."
   ]
  },
  {
   "cell_type": "markdown",
   "metadata": {},
   "source": [
    "## b)\n",
    "\n",
    "In part b we constructed the matrix structure of \n",
    "\n",
    "$$\\left( \\begin{array}{ccc}\n",
    "X & X & 0 \\\\\n",
    "0 & X & X \\\\\n",
    "0 & 0 & X \\end{array} \\right)$$\n",
    "\n",
    "If we multiply this matrix from left by\n",
    "\n",
    "$$\\left( \\begin{array}{ccc}\n",
    "1 & 0 & 0 \\\\\n",
    "0 & 0 & 1 \\\\\n",
    "0 & 1 & 0 \\end{array} \\right)$$\n",
    "\n",
    "We get the matrix of \n",
    "\n",
    "$$\\left( \\begin{array}{ccc}\n",
    "X & X & 0 \\\\\n",
    "0 & 0 & X \\\\\n",
    "0 & X & X \\end{array} \\right)$$\n",
    "\n",
    "It looks like the matrix structure of **b)** with an extra zero. Situation **(ii)** holds."
   ]
  }
 ],
 "metadata": {
  "kernelspec": {
   "display_name": "Octave",
   "language": "octave",
   "name": "octave"
  },
  "language_info": {
   "file_extension": ".m",
   "help_links": [
    {
     "text": "GNU Octave",
     "url": "https://www.gnu.org/software/octave/support.html"
    },
    {
     "text": "Octave Kernel",
     "url": "https://github.com/Calysto/octave_kernel"
    },
    {
     "text": "MetaKernel Magics",
     "url": "https://github.com/calysto/metakernel/blob/master/metakernel/magics/README.md"
    }
   ],
   "mimetype": "text/x-octave",
   "name": "octave",
   "version": "4.2.0"
  }
 },
 "nbformat": 4,
 "nbformat_minor": 2
}
